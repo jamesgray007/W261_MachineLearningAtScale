{
 "cells": [
  {
   "cell_type": "markdown",
   "metadata": {},
   "source": [
    "# MIDS UC Berkeley - Machine Learning at Scale\n",
    "## DATSCIW261 ASSIGNMENT #7  \n",
    "\n",
    "[James Gray](https://github.com/jamesgray007)   \n",
    "jamesgray@ischool.berkeley.edu   \n",
    "Time of Initial Submission: 08:15 PM US Central, Sunday, July 10, 2016  \n",
    "Time of **Resubmission**:  \n",
    "W261-1, Spring 2016  \n",
    "Week 7 Homework"
   ]
  },
  {
   "cell_type": "code",
   "execution_count": 2,
   "metadata": {
    "collapsed": false
   },
   "outputs": [
    {
     "name": "stdout",
     "output_type": "stream",
     "text": [
      "The autoreload extension is already loaded. To reload it, use:\n",
      "  %reload_ext autoreload\n"
     ]
    }
   ],
   "source": [
    "# This is code that will apply to the entire workbook\n",
    "\n",
    "# reload the MrJob code when we make changes\n",
    "%load_ext autoreload\n",
    "%autoreload 2\n",
    "# this will render matplotlib charts inside the notebook\n",
    "%matplotlib inline\n",
    "\n",
    "# Numpy and plotting imports\n",
    "import numpy as np\n",
    "import pylab as plt"
   ]
  },
  {
   "cell_type": "markdown",
   "metadata": {},
   "source": [
    "# Creation of Amazon EMR Cluster and S3 Bucket Info\n",
    "\n",
    "This code will create an EMR cluster using the settings in .mrjob.conf file on my local MacBook Pro.\n",
    "\n",
    "runners:\n",
    "  emr:\n",
    "    ec2_key_pair: w261   \n",
    "    ec2_key_pair_file: ~/.aws/w261.pem   \n",
    "    ssh_tunnel: true   \n",
    "    aws_region: us-east-1   \n",
    "    ec2_core_instance_type: m3.xlarge   \n",
    "    ec2_master_instance_type: m3.xlarge   \n",
    "    num_ec2_core_instances: 3  \n",
    "\n",
    "\n",
    "### S3 Bucket = jamesgray-w261/\n",
    "\n",
    "This is the bucket where the input data files are stored in addition to the MapReduce outputs"
   ]
  },
  {
   "cell_type": "code",
   "execution_count": 33,
   "metadata": {
    "collapsed": false
   },
   "outputs": [
    {
     "name": "stdout",
     "output_type": "stream",
     "text": [
      "Using configs in /Users/jamesgray/.mrjob.conf\n",
      "Using s3://mrjob-5a4b4386e2160458/tmp/ as our temp dir on S3\n",
      "Creating persistent cluster to run several jobs in...\n",
      "Creating temp directory /var/folders/ld/9wpyxfw13t7_pdv_0b8958x40000gn/T/no_script.jamesgray.20160711.010235.910038\n",
      "Copying local files to s3://mrjob-5a4b4386e2160458/tmp/no_script.jamesgray.20160711.010235.910038/files/...\n",
      "Can't access IAM API, trying default instance profile: EMR_EC2_DefaultRole\n",
      "Can't access IAM API, trying default service role: EMR_DefaultRole\n",
      "j-2ZNYC647FVZWV\n"
     ]
    }
   ],
   "source": [
    "# create EMR Cluster\n",
    "!mrjob create-cluster --max-hours-idle 1"
   ]
  },
  {
   "cell_type": "markdown",
   "metadata": {},
   "source": [
    "# General Description\n",
    "\n",
    "In this assignment you will explore networks and develop MRJob code for finding shortest path graph distances. To build up to large data you will develop your code on some very simple, toy networks. After this you will take your developed code forward and modify it and apply it to two larger datasets (performing EDA along the way).\n",
    "\n",
    "### == Undirected toy network dataset ==\n",
    "\n",
    "In an undirected network all links are symmetric, \n",
    "i.e., for a pair of nodes 'A' and 'B,' both of the links:\n",
    "\n",
    "A -> B and B -> A\n",
    "\n",
    "will exist. \n",
    "\n",
    "The toy data are available in a sparse (stripes) representation:\n",
    "\n",
    "(node) \\t (dictionary of links)\n",
    "\n",
    "on AWS/Dropbox via the url:\n",
    "\n",
    "s3://ucb-mids-mls-networks/undirected_toy.txt\n",
    "On under the Data Subfolder for HW7 on Dropbox with the same file name. \n",
    "The Data folder is in: https://db.tt/Kxu48mL1)\n",
    "\n",
    "In the dictionary, target nodes are keys, link weights are values \n",
    "(here, all weights are 1, i.e., the network is unweighted).\n",
    "\n",
    "### ==Directed toy network dataset==\n",
    "\n",
    "In a directed network all links are not necessarily symmetric, \n",
    "i.e., for a pair of nodes 'A' and 'B,' it is possible for only one of:\n",
    "\n",
    "A -> B or B -> A\n",
    "\n",
    "to exist. \n",
    "\n",
    "These toy data are available in a sparse (stripes) representation:\n",
    "\n",
    "(node) \\t (dictionary of links)\n",
    "\n",
    "on AWS/Dropbox via the url:\n",
    "\n",
    "s3://ucb-mids-mls-networks/directed_toy.txt\n",
    "Or under the Data Subfolder for HW7 on Dropbox with the same file name\n",
    "(On Dropbox https://www.dropbox.com/sh/2c0k5adwz36lkcw/AAAAKsjQfF9uHfv-X9mCqr9wa?dl=0)\n",
    "\n",
    "In the dictionary, target nodes are keys, link weights are values \n",
    "(here, all weights are 1, i.e., the network is unweighted)."
   ]
  },
  {
   "cell_type": "markdown",
   "metadata": {},
   "source": [
    "# HW 7.0: Shortest path graph distances (toy networks)\n",
    "\n",
    "In this part of your assignment you will develop the base of your code for the week.\n",
    "\n",
    "Write MRJob classes to find shortest path graph distances, as described in the lectures. In addition to finding the distances, your code should also output a distance-minimizing path between the source and target.Work locally for this part of the assignment, and use both of the undirected and directed toy networks.\n",
    "\n",
    "To proof you code's function, run the following jobs\n",
    "\n",
    "- shortest path in the undirected network from node 1 to node 4\n",
    "Solution: 1,5,4. NOTE: There is another shortest path also (HINT: 1->5->4)! Either will suffice (you will find this also in the remaining problems. E.g., 7.2 and 7.4.\n",
    " \n",
    "\n",
    "- shortest path in the directed network from node 1 to node 5\n",
    "Solution: 1,2,4,5\n",
    "\n",
    "and report your output---make sure it is correct!\n",
    "\n",
    "\n"
   ]
  },
  {
   "cell_type": "markdown",
   "metadata": {},
   "source": [
    "## HW7.0 MR Job Code for Computing Shortest Path for Toy Network Graph"
   ]
  },
  {
   "cell_type": "code",
   "execution_count": 4,
   "metadata": {
    "collapsed": false
   },
   "outputs": [
    {
     "name": "stdout",
     "output_type": "stream",
     "text": [
      "Overwriting shortestpath.py\n"
     ]
    }
   ],
   "source": [
    "%%writefile shortestpath.py\n",
    "# code for computing shortest path for toy network graph\n",
    "from __future__ import division\n",
    "from mrjob.job import MRJob\n",
    "from mrjob.job import MRStep\n",
    "import re\n",
    "import ast\n",
    "\n",
    "WORD_RE = re.compile(r\"[\\w']+\")\n",
    " \n",
    "class MRShortestPath(MRJob):\n",
    "\n",
    "    # set configuration options for MRJob\n",
    "    def configure_options(self):\n",
    "        super(MRShortestPath, self).configure_options()\n",
    "        self.add_passthrough_option('--start', default='1', type=str)\n",
    "        self.add_passthrough_option('--end', default='4', type=str)\n",
    "        self.add_passthrough_option('--statuspath', default='', type=str)\n",
    "        self.add_passthrough_option('--iteration', default='1', type=str)\n",
    "        self.add_passthrough_option('--jobtype', default='local', type=str)\n",
    "\n",
    "        \n",
    "    def mapper(self, node, line):\n",
    "        if self.options.iteration=='1':\n",
    "            line = line.strip('\\n')\n",
    "            data = line.split(\"\\t\")\n",
    "            status = 'U' # set everything to unvisited for the initial iteration\n",
    "\n",
    "            # This is the first inialization (from original graph file)\n",
    "            # there are only 2 elements, the node and adjacency list\n",
    "            if(len(data) == 2): \n",
    "                nid = data[0]\n",
    "                N = ast.literal_eval(data[1])\n",
    "\n",
    "                # if our node is the start node , initialize the start\n",
    "                # distance at source = 0.0\n",
    "                if nid == self.options.start:\n",
    "                    ds = 0.0\n",
    "                    status = 'V'\n",
    "                    path=[nid]\n",
    "                else: \n",
    "                    # if this is not the start node, initialize distance to inf and path to empty list\n",
    "                    ds = float(\"inf\")\n",
    "                    path=[]\n",
    "\n",
    "                # yield the root node , (distance, graph structure, status, \"Visited\", and path (as a list))\n",
    "                yield  nid, (ds, N, status,path)\n",
    "\n",
    "                # nor each of the nodes in the adjacency list, \n",
    "                # we expand frontier with starting distance.\n",
    "                for m,d in N.iteritems():\n",
    "                    #new distance is going to be from root node  + dist              \n",
    "                    newdist = d+ds\n",
    "                    new_path=path[:]\n",
    "                    new_path.append(m)\n",
    "                    if newdist < float(\"inf\"):\n",
    "                        status = 'Q'\n",
    "\n",
    "                    yield m, (newdist, None, status,new_path)\n",
    "                \n",
    "        # from Iteration 1 onwards we'll land here...more data items to track\n",
    "        else:\n",
    "            if self.options.jobtype=='local':\n",
    "                inf=float(\"inf\") \n",
    "                line = line.strip('\\n')\n",
    "                nid,data=eval(line)\n",
    "            \n",
    "            if self.options.jobtype=='emr':\n",
    "                Infinity=float('inf') \n",
    "                line = line.strip('\\n')\n",
    "                nid,data=line.split('\\t')\n",
    "                nid=eval(nid)\n",
    "                data=eval(data)\n",
    "            \n",
    "            \n",
    "            dist=data[0]\n",
    "            N = data[1] # adjacency list - graph to use for next iter\n",
    "            status = data[2] #status - U, Q, V\n",
    "            path=data[3] #list of previously visited nodes\n",
    "            \n",
    "              \n",
    "            #If a node is in the frontier, expand it\n",
    "            if status=='Q':\n",
    "                #Emit original node\n",
    "                yield  nid, (dist, N, 'V',path)\n",
    "                \n",
    "                #Emit linked nodes\n",
    "                for m,d in N.iteritems():\n",
    "                    newdist=d+dist\n",
    "                    new_path=path[:]\n",
    "                    new_path.append(m)\n",
    "                    yield m, (newdist, None, 'Q', new_path)\n",
    "            \n",
    "            #If it's not in the frontier, pass it through unchanged\n",
    "            else:        \n",
    "                yield  nid, (dist, N, status,path)\n",
    "                    \n",
    "                    \n",
    "    def reducer_init(self):\n",
    "        \n",
    "        self.finished=0\n",
    "        self.shortest_path=[]\n",
    "        self.min_dist=0\n",
    "            \n",
    "    def reducer(self, node, distances):\n",
    "        adjList = {} #adjacency list - to be compiled below\n",
    "        sdist = float(\"inf\") #this is the shortest distance we've seen to the node so far\n",
    "        stati = [] #list of all statuses we've encountered for this node\n",
    "        spath=[] #shortest path we've found to the node so far\n",
    "        for dist in distances:\n",
    "            node_dist,list_of_links,temp_status,path=dist[:]\n",
    "\n",
    "            # Extract the original graph structure from the node that has it\n",
    "            if list_of_links:\n",
    "                adjList = list_of_links\n",
    "            \n",
    "            stati.append(temp_status)\n",
    "            \n",
    "            #If we find a record of a visited node, we can move on\n",
    "            if temp_status == 'V':\n",
    "                sdist=node_dist\n",
    "                spath = path\n",
    "                break\n",
    "                       \n",
    "            # If we find a shorter distance to a node, update our knowledge of it\n",
    "            if node_dist < sdist:\n",
    "                sdist = node_dist\n",
    "                spath=path\n",
    "                if node not in spath:\n",
    "                    spath.append(node)\n",
    "            \n",
    "        #Check the current state of the node\n",
    "        if 'V' in stati:\n",
    "            status='V'\n",
    "            #Have we hit our destination node?\n",
    "            if node==self.options.end :\n",
    "                self.shortest_path=spath\n",
    "                self.finished=1\n",
    "                self.min_dist=sdist\n",
    "        elif 'Q' in stati:\n",
    "            status='Q'\n",
    "        else:\n",
    "            status='U'\n",
    "            \n",
    "        yield node, (sdist, adjList, status, spath)\n",
    "        \n",
    "    def steps(self):\n",
    "        return [MRStep( \n",
    "                        mapper=self.mapper\n",
    "                        ,reducer_init=self.reducer_init\n",
    "                        ,reducer=self.reducer\n",
    "                      )]\n",
    "    \n",
    "if __name__ == '__main__':\n",
    "    MRShortestPath.run()"
   ]
  },
  {
   "cell_type": "markdown",
   "metadata": {},
   "source": [
    "## HW7.0 - Undirected Toy Graph (Run MR Job Locally)"
   ]
  },
  {
   "cell_type": "code",
   "execution_count": 5,
   "metadata": {
    "collapsed": false
   },
   "outputs": [
    {
     "name": "stdout",
     "output_type": "stream",
     "text": [
      "Iteration : 1\n",
      "Iteration : 2\n",
      "Iteration : 3\n",
      "DONE\n",
      "Shortest path from 1 to 4 is 2 steps long:\n",
      "The path is:  ['1', '2', '4']\n"
     ]
    }
   ],
   "source": [
    "%reload_ext autoreload\n",
    "%autoreload 2\n",
    "from shortestpath import MRShortestPath\n",
    "from __future__ import division\n",
    "                                       \n",
    "\n",
    "iterate = 1\n",
    "stop = False\n",
    "last_total_dist = float(\"inf\")\n",
    "start_node = ''\n",
    "end_node = ''\n",
    "end_sdist = float(\"inf\")\n",
    "path = {}\n",
    "\n",
    "\n",
    "#### TEST VERSION #####\n",
    "input_dir_prefix='undirected_toy'\n",
    "start_node='1'\n",
    "end_node='4'\n",
    "\n",
    "\n",
    "#### RUN THE JOBS #####\n",
    "#The second condition is insurance to make sure we stop after a finite number of cycles...just in case\n",
    "\n",
    "while(not stop and iterate <= 20):\n",
    "    \n",
    "    output_directory=input_dir_prefix+'Output{0}.txt'.format(str(iterate))\n",
    "    if iterate==1:\n",
    "        input_directory=input_dir_prefix+'.txt'\n",
    "    else:\n",
    "        input_directory=input_dir_prefix+'Output{0}.txt'.format(str(iterate-1))\n",
    "\n",
    "    #LOCAL VERSION - IN WHICH WE WRITE RESULTS TO A FILE\n",
    "    mr_job = MRShortestPath(args=[input_directory, \n",
    "                         #'--file=start_end.txt',\n",
    "                         '--no-strict-protocols',\n",
    "                        '--start',start_node,\n",
    "                        '--end',end_node,\n",
    "                        #'--statuspath',status_path,\n",
    "                        '--iteration',str(iterate)])\n",
    "    \n",
    "    \n",
    "    with mr_job.make_runner() as runner: \n",
    "        runner.run()\n",
    "        print \"Iteration : {0}\".format(iterate)\n",
    "        \n",
    "        #Stream output locally\n",
    "        with open(output_directory, 'w+') as f:\n",
    "            for line in runner.stream_output():\n",
    "                nid,distances =  mr_job.parse_output_line(line)\n",
    "                dist,adjlist,status,path  = distances\n",
    "                f.write(str(mr_job.parse_output_line(line))+'\\n')\n",
    "                if nid==end_node and status=='V':\n",
    "                    print \"DONE\"\n",
    "                    print \"Shortest path from {0} to {1} is {2} steps long:\".format(start_node,end_node,str(len(path)-1))\n",
    "                    print \"The path is: \",path\n",
    "                    stop=True \n",
    "                if nid==end_node:\n",
    "                    break\n",
    "\n",
    "        #just in case this thing does not stop..\n",
    "        iterate += 1   \n"
   ]
  },
  {
   "cell_type": "markdown",
   "metadata": {},
   "source": [
    "## HW7.0 - Directed Toy Graph (Run Locally)"
   ]
  },
  {
   "cell_type": "code",
   "execution_count": 6,
   "metadata": {
    "collapsed": false
   },
   "outputs": [
    {
     "name": "stdout",
     "output_type": "stream",
     "text": [
      "Iteration : 1\n",
      "Iteration : 2\n",
      "Iteration : 3\n",
      "Iteration : 4\n",
      "DONE\n",
      "Shortest path from 1 to 5 is 3 steps long:\n",
      "The path is:  ['1', '2', '4', '5']\n"
     ]
    }
   ],
   "source": [
    "## HW7 - Directed Toy Example, running locally\n",
    "%reload_ext autoreload\n",
    "%autoreload 2\n",
    "from shortestpath import MRShortestPath\n",
    "from __future__ import division\n",
    "                                       \n",
    "\n",
    "iterate = 1\n",
    "stop = False\n",
    "last_total_dist = float(\"inf\")\n",
    "start_node = ''\n",
    "end_node = ''\n",
    "end_sdist = float(\"inf\")\n",
    "path = {}\n",
    "\n",
    "\n",
    "#### TEST VERSION #####\n",
    "input_dir_prefix='directed_toy'\n",
    "start_node='1'\n",
    "end_node='5'\n",
    "\n",
    "#### RUN THE JOBS #####\n",
    "#The second condition is insurance to make sure we stop after a finite number of cycles...just in case\n",
    "\n",
    "while(not stop and iterate <= 20):\n",
    "    \n",
    "    output_directory=input_dir_prefix+'Output{0}.txt'.format(str(iterate))\n",
    "    if iterate==1:\n",
    "        input_directory=input_dir_prefix+'.txt'\n",
    "    else:\n",
    "        input_directory=input_dir_prefix+'Output{0}.txt'.format(str(iterate-1))\n",
    "\n",
    "    #LOCAL VERSION - IN WHICH WE WRITE RESULTS TO A FILE\n",
    "    mr_job = MRShortestPath(args=[input_directory, \n",
    "                         #'--file=start_end.txt',\n",
    "                         '--no-strict-protocols',\n",
    "                        '--start',start_node,\n",
    "                        '--end',end_node,\n",
    "                        #'--statuspath',status_path,\n",
    "                        '--iteration',str(iterate)])\n",
    "    \n",
    "    \n",
    "    with mr_job.make_runner() as runner: \n",
    "        runner.run()\n",
    "        print \"Iteration : {0}\".format(iterate)\n",
    "        \n",
    "        #Stream output locally\n",
    "        with open(output_directory, 'w+') as f:\n",
    "            for line in runner.stream_output():\n",
    "                nid,distances =  mr_job.parse_output_line(line)\n",
    "                dist,adjlist,status,path  = distances\n",
    "                f.write(str(mr_job.parse_output_line(line))+'\\n')\n",
    "                if nid==end_node and status=='V':\n",
    "                    print \"DONE\"\n",
    "                    print \"Shortest path from {0} to {1} is {2} steps long:\".format(start_node,end_node,str(len(path)-1))\n",
    "                    print \"The path is: \",path\n",
    "                    stop=True \n",
    "                if nid==end_node:\n",
    "                    break\n",
    "\n",
    "        #just in case this thing does not stop..\n",
    "        iterate += 1   \n"
   ]
  },
  {
   "cell_type": "markdown",
   "metadata": {},
   "source": [
    "# Main dataset 1: NLTK synonyms\n",
    "\n",
    "In the next part of this assignment you will explore a network derived from\n",
    "the NLTK synonym database used for evaluation in HW 5. At a high level, this\n",
    "network is undirected, defined so that there exists link between two nodes/words \n",
    "if the pair or words are a synonym. These data may be found at the location:\n",
    "\n",
    "* s3://ucb-mids-mls-networks/synNet/synNet.txt\n",
    "* s3://ucb-mids-mls-networks/synNet/indices.txt\n",
    "* On under the Data Subfolder for HW7 on Dropbox with the same file names\n",
    "\n",
    "where synNet.txt contains a sparse representation of the network:\n",
    "\n",
    "(index) \\t (dictionary of links)\n",
    "\n",
    "Sample records:\n",
    "\n",
    "1\t{'2': 1, '3': 1, '4': 1}   \n",
    "2\t{'1': 1, '3': 1, '4': 1, '310': 1, '311': 1}   \n",
    "3\t{'1': 1, '2': 1, '4': 1}   \n",
    "4\t{'1': 1, '2': 1, '3': 1, '311': 1}   \n",
    "5\t{'6': 1}   \n",
    "\n",
    "\n",
    "in indexed form, and indices.txt contains a lookup list\n",
    "\n",
    "(word) \\t (index)\n",
    "\n",
    "Sample records:\n",
    "\n",
    "A\t1  \n",
    "As\t2  \n",
    "a\t3  \n",
    "as\t4  \n",
    "AB\t5  \n",
    "abdominal\t6  \n",
    "AD\t7  \n",
    "ad\t8  \n",
    "advertising\t9  \n",
    "AIDS\t10  \n",
    "\n",
    "\n",
    "of indices and words. This network is small enough for you to explore and run\n",
    "scripts locally, but will also be good for a systems test (for later) on AWS.\n",
    "\n",
    "In the dictionary, target nodes are keys, link weights are values \n",
    "(here, all weights are 1, i.e., the network is unweighted)."
   ]
  },
  {
   "cell_type": "markdown",
   "metadata": {},
   "source": [
    "# HW 7.1: Exploratory data analysis (NLTK synonyms)\n",
    "\n",
    "Using MRJob, explore the synonyms network data. Consider plotting the degree distribution (does it follow a power law?) and determine some of the key features, like:\n",
    "\n",
    "* number of nodes, \n",
    "* number links,\n",
    "* or the average degree (i.e., the average number of links per node),etc...\n",
    "\n",
    "As you develop your code, please be sure to run it locally first (though on the whole dataset). Once you have gotten you code to run locally, deploy it on AWS as a systems test in preparation for our next dataset (which will require AWS).\n",
    "\n",
    "### Power Law\n",
    "\n",
    "The Power Law is often described as the 80/20 rule such as ranking of popularity where a few items are responsible for the majority of popular items and there is a long tail with small popularity.\n",
    "\n",
    "![graph](img/graph.png)"
   ]
  },
  {
   "cell_type": "markdown",
   "metadata": {},
   "source": [
    "## HW7.1 - MRJob for EDA of Key Features (# nodes, links, links/node)\n",
    "\n",
    "This is the MRJob code to calculate summary statistics about the network graph.  Here we will compute the number of nodes, links and links/nodes."
   ]
  },
  {
   "cell_type": "code",
   "execution_count": 7,
   "metadata": {
    "collapsed": false
   },
   "outputs": [
    {
     "name": "stdout",
     "output_type": "stream",
     "text": [
      "Overwriting eda.py\n"
     ]
    }
   ],
   "source": [
    "%%writefile eda.py\n",
    "\n",
    "from mrjob.job import MRJob\n",
    "from mrjob.job import MRStep\n",
    "import csv\n",
    "from operator import itemgetter\n",
    "import re\n",
    "import ast\n",
    "\n",
    "class MRnltkeda(MRJob):\n",
    "            \n",
    "    def mapper(self, _, line):\n",
    "        \"\"\" Generate mapper output records with values as (1,node_degree) to calculate # of nodes, links\"\"\"\n",
    "        line = line.strip('\\n')\n",
    "        data = line.split(\"\\t\")\n",
    "        nodeid = data[0] # node\n",
    "        N = eval(data[1]) # dict as node links\n",
    "        node_degree = len(N)\n",
    "        yield _,(1,node_degree)\n",
    "\n",
    "        \n",
    "    def reducer(self, nodeid, line):\n",
    "        \"\"\"Aggregate node counts and degree counts\"\"\"\n",
    "        nodes=0\n",
    "        edges=0\n",
    "        for record in line:\n",
    "            nodes+=record[0]\n",
    "            edges+=record[1]    \n",
    "        yield None, (nodes,edges)\n",
    "    \n",
    "    def steps(self):\n",
    "        return [MRStep(  mapper=self.mapper\n",
    "                    ,reducer=self.reducer\n",
    "                )\n",
    "            ]\n",
    "                \n",
    "if __name__ == '__main__':\n",
    "    MRnltkeda.run()"
   ]
  },
  {
   "cell_type": "markdown",
   "metadata": {},
   "source": [
    "## HW 7.1 - MRJob Driver (Local Execution)"
   ]
  },
  {
   "cell_type": "code",
   "execution_count": 8,
   "metadata": {
    "collapsed": false
   },
   "outputs": [
    {
     "name": "stdout",
     "output_type": "stream",
     "text": [
      "Total # of network nodes = 8271\n",
      "Total # of network edges = 61134\n",
      "Average # of edges/node = 7.39136742836\n"
     ]
    }
   ],
   "source": [
    "%reload_ext autoreload\n",
    "%autoreload 2\n",
    "from __future__ import division\n",
    "from eda import MRnltkeda\n",
    "\n",
    "mr_job = MRnltkeda(args=['synNet.txt','--no-strict-protocols'])\n",
    "nodes=0\n",
    "edges=0\n",
    "with mr_job.make_runner() as runner:\n",
    "    runner.run()\n",
    "    for line in runner.stream_output():\n",
    "        _,count =  mr_job.parse_output_line(line)\n",
    "        nodes+=count[0]\n",
    "        edges+=count[1]\n",
    "\n",
    "print \"Total # of network nodes = {}\".format(nodes)   \n",
    "print \"Total # of network edges = {}\".format(edges)   \n",
    "print \"Average # of edges/node = {}\".format(edges/nodes)"
   ]
  },
  {
   "cell_type": "markdown",
   "metadata": {},
   "source": [
    "## HW7.1 - Calculate and Plot Degree of Distribution for the Network\n",
    "\n",
    "This code will calculate the counts of nodes by the number of connections and we will see if it follows the power law"
   ]
  },
  {
   "cell_type": "code",
   "execution_count": 9,
   "metadata": {
    "collapsed": false
   },
   "outputs": [
    {
     "name": "stdout",
     "output_type": "stream",
     "text": [
      "Overwriting power.py\n"
     ]
    }
   ],
   "source": [
    "%%writefile power.py\n",
    "\n",
    "from mrjob.job import MRJob\n",
    "from mrjob.job import MRStep\n",
    "import csv\n",
    "from operator import itemgetter\n",
    "import re\n",
    "import ast\n",
    "\n",
    "class MRDegreeDist(MRJob):\n",
    "            \n",
    "    def mapper(self, _, line):\n",
    "        \"\"\"The goal of the mapper is to generate outputs of:\n",
    "        Key: The node's degree (with padded zeros)\n",
    "        Value: 1\n",
    "        \"\"\"\n",
    "        line = line.strip('\\n')\n",
    "        data = line.split(\"\\t\")\n",
    "        #nodeid = data[0]\n",
    "        N = eval(data[1])\n",
    "        if N:\n",
    "            node_degree = len(N)\n",
    "        else:\n",
    "            node_degree=0\n",
    "        # Padding the degrees with leading zeros gives us results in order nicely\n",
    "        yield '{0:010d}'.format(node_degree), 1\n",
    "\n",
    "    def reducer(self, degree, count):\n",
    "        \"\"\"Aggregate pairs returned by the mapper\"\"\"\n",
    "        total_nodes=sum([i for i in count])  \n",
    "        yield degree, total_nodes\n",
    "    \n",
    "    def steps(self):\n",
    "        return [MRStep(  mapper=self.mapper\n",
    "                    ,reducer=self.reducer\n",
    "                )\n",
    "            ]\n",
    "                \n",
    "if __name__ == '__main__':\n",
    "    MRDegreeDist.run()"
   ]
  },
  {
   "cell_type": "code",
   "execution_count": 10,
   "metadata": {
    "collapsed": false
   },
   "outputs": [
    {
     "name": "stdout",
     "output_type": "stream",
     "text": [
      "Done\n"
     ]
    }
   ],
   "source": [
    "%reload_ext autoreload\n",
    "%autoreload 2\n",
    "from __future__ import division\n",
    "from power import MRDegreeDist\n",
    "\n",
    "input_dir_prefix='synNet'\n",
    "\n",
    "mr_job = MRDegreeDist(args=['{0}.txt'.format(input_dir_prefix),'--no-strict-protocols'])\n",
    "nodes=0\n",
    "edges=0\n",
    "with open ('{0}_degree_distribution.txt'.format(input_dir_prefix),'w') as f:\n",
    "    with mr_job.make_runner() as runner:\n",
    "        runner.run()\n",
    "        for line in runner.stream_output():\n",
    "            #Write results to a file so we can plot them more easily\n",
    "            f.writelines(line)\n",
    "\n",
    "print \"Done\""
   ]
  },
  {
   "cell_type": "code",
   "execution_count": 11,
   "metadata": {
    "collapsed": false
   },
   "outputs": [
    {
     "data": {
      "image/png": "[encoded data removed]",
      "text/plain": [
       "<matplotlib.figure.Figure at 0x10a20e550>"
      ]
     },
     "metadata": {},
     "output_type": "display_data"
    }
   ],
   "source": [
    "x=[]\n",
    "y=[]\n",
    "with open ('{0}_degree_distribution.txt'.format(input_dir_prefix),'r') as f:\n",
    "    for line in f.readlines():\n",
    "        data=line.strip('\\n').split('\\t')\n",
    "        degree=int(eval(data[0]))\n",
    "        count=int(data[1])\n",
    "        x.append(degree)\n",
    "        y.append(count)\n",
    "\n",
    "plt.bar(x,y)\n",
    "plt.xlabel('Degree')\n",
    "plt.ylabel('Frequency - # of nodes')\n",
    "plt.title('Degree distribution - connections per node')\n",
    "plt.show()"
   ]
  },
  {
   "cell_type": "markdown",
   "metadata": {},
   "source": [
    "## HW7.1 - Run EDA on Amazon EMR"
   ]
  },
  {
   "cell_type": "code",
   "execution_count": 13,
   "metadata": {
    "collapsed": false
   },
   "outputs": [
    {
     "name": "stdout",
     "output_type": "stream",
     "text": [
      "Total Nodes = 8271\n",
      "Total Edges = 61134\n",
      "Average Edges/Node = 7.39136742836\n"
     ]
    }
   ],
   "source": [
    "%reload_ext autoreload\n",
    "%autoreload 2\n",
    "from __future__ import division\n",
    "from eda import MRnltkeda\n",
    "\n",
    "input_dir_prefix='synNet'\n",
    "input_directory='s3://jamesgray-w261/'+input_dir_prefix+'.txt'\n",
    "cluster='j-2TVDH7F520X1Y'\n",
    "\n",
    "#EMR VERSION\n",
    "mr_job = MRnltkeda(args=['-r', 'emr',\n",
    "                     input_directory,\n",
    "                     '--no-strict-protocols',\n",
    "                     '--output-dir','s3://jamesgray-w261/'+input_dir_prefix+'output',\n",
    "                     '--no-output',\n",
    "                     '--emr-job-flow-id', cluster,\n",
    "                    ])\n",
    "\n",
    "nodes=0\n",
    "edges=0\n",
    "with mr_job.make_runner() as runner:\n",
    "    runner.run()\n",
    "    for line in runner.stream_output():\n",
    "        _,count =  mr_job.parse_output_line(line)\n",
    "        nodes+=count[0]\n",
    "        edges+=count[1]\n",
    "\n",
    "print \"Total Nodes = {}\".format(nodes)   \n",
    "print \"Total Edges = {}\".format(edges)   \n",
    "print \"Average Edges/Node = {}\".format(edges/nodes)\n",
    "                "
   ]
  },
  {
   "cell_type": "markdown",
   "metadata": {},
   "source": [
    "# HW 7.2: Shortest path graph distances (NLTK synonyms)\n",
    "\n",
    "Write (reuse your code from 7.0) an MRJob class to find shortest path graph distances, \n",
    "and apply it to the NLTK synonyms network dataset. \n",
    "\n",
    "Proof your code's function by running the job:\n",
    "\n",
    "- shortest path starting at \"walk\" (index=7827) and ending at \"make\" (index=536),\n",
    "\n",
    "and showing you code's output. Once again, your output should include the path and the distance.\n",
    "\n",
    "As you develop your code, please be sure to run it locally first (though on the whole dataset). \n",
    "Once you have gotten you code to run locally, deploy it on AWS as a systems test\n",
    "in preparation for our next dataset (which will require AWS).\n",
    "\n",
    "NOTE: ====  Dataset 2 English Wikipedia hyperlink network.data ====\n",
    "The dataset is available via Dropbox at:\n",
    "\n",
    "https://www.dropbox.com/sh/2c0k5adwz36lkcw/AAAAKsjQfF9uHfv-X9mCqr9wa?dl=0\n",
    "\n",
    "on S3 at  s3://ucb-mids-mls-networks/wikipedia/\n",
    "-- s3://ucb-mids-mls-networks/wikipedia/all-pages-indexed-out.txt # Graph\n",
    "-- s3://ucb-mids-mls-networks/wikipedia/indices.txt               # Page titles and page Ids\n",
    "\n",
    "The dataset is built from the Sept. 2015 XML snapshot of English Wikipedia.\n",
    "For this directed network, a link between articles: \n",
    "\n",
    "A -> B\n",
    "\n",
    "is defined by the existence of a hyperlink in A pointing to B.\n",
    "This network also exists in the indexed format:\n",
    "\n",
    "Data: s3://ucb-mids-mls-networks/wikipedia/all-pages-indexed-out.txt\n",
    "Data: s3://ucb-mids-mls-networks/wikipedia/all-pages-indexed-in.txt\n",
    "Data: s3://ucb-mids-mls-networks/wikipedia/indices.txt\n",
    "\n",
    "but has an index with more detailed data:\n",
    "\n",
    "(article name) \\t (index) \\t (in degree) \\t (out degree)\n",
    "\n",
    "In the dictionary, target nodes are keys, link weights are values .\n",
    "Here, a weight indicates the number of time a page links to another.\n",
    "However, for the sake of this assignment, treat this an unweighted network,\n",
    "and set all weights to 1 upon data input.\n",
    "\n",
    "\n",
    "For the remainder of this assignment you will explore the English Wikipedia hyperlink network.\n",
    "The dataset is built from the Sept. 2015 XML snapshot of English Wikipedia.\n",
    "For this directed network, a link between articles: \n",
    "\n",
    "A -> B\n",
    "\n",
    "is defined by the existence of a hyperlink in A pointing to B.\n",
    "This network also exists in the indexed format:\n",
    "\n",
    "Data: s3://ucb-mids-mls-networks/wikipedia/all-pages-indexed-out.txt\n",
    "Data: s3://ucb-mids-mls-networks/wikipedia/all-pages-indexed-in.txt\n",
    "Data: s3://ucb-mids-mls-networks/wikipedia/indices.txt\n",
    "\n",
    "but has an index with more detailed data:\n",
    "\n",
    "(article name) \\t (index) \\t (in degree) \\t (out degree)\n",
    "\n",
    "In the dictionary, target nodes are keys, link weights are values .\n",
    "Here, a weight indicates the number of time a page links to another.\n",
    "However, for the sake of this assignment, treat this an unweighted network,\n",
    "and set all weights to 1 upon data input."
   ]
  },
  {
   "cell_type": "markdown",
   "metadata": {},
   "source": [
    "## HW 7.2 - NLTK Shortest Path (Local Execution)"
   ]
  },
  {
   "cell_type": "code",
   "execution_count": 14,
   "metadata": {
    "collapsed": false
   },
   "outputs": [
    {
     "name": "stdout",
     "output_type": "stream",
     "text": [
      "Iteration : 1\n",
      "Iteration : 2\n",
      "Iteration : 3\n",
      "Iteration : 4\n",
      "DONE\n",
      "Shortest path from 7827 to 536 is 3 steps long:\n",
      "The path is:  ['7827', '1426', '1668', '536']\n"
     ]
    }
   ],
   "source": [
    "%reload_ext autoreload\n",
    "%autoreload 2\n",
    "from shortestpath import MRShortestPath\n",
    "from __future__ import division\n",
    "                                       \n",
    "iterate = 1\n",
    "stop = False\n",
    "last_total_dist = float(\"inf\")\n",
    "start_node = ''\n",
    "end_node = ''\n",
    "end_sdist = float(\"inf\")\n",
    "path = {}\n",
    "\n",
    "#### NLTK VERSION #####\n",
    "input_dir_prefix='synNet'\n",
    "start_node='7827'  # we are going to start \"walking\" at this node\n",
    "end_node='536' # this is the final node we are looking to walk to\n",
    "\n",
    "\n",
    "#### RUN THE JOBS #####\n",
    "#The second condition is insurance to make sure we stop after a finite number of cycles...just in case\n",
    "\n",
    "while(not stop and iterate <= 20):\n",
    "    \n",
    "    output_directory=input_dir_prefix+'Output{0}.txt'.format(str(iterate))\n",
    "    if iterate==1:\n",
    "        input_directory=input_dir_prefix+'.txt'\n",
    "    else:\n",
    "        input_directory=input_dir_prefix+'Output{0}.txt'.format(str(iterate-1))\n",
    "\n",
    "    #LOCAL VERSION - IN WHICH WE WRITE RESULTS TO A FILE\n",
    "    mr_job = MRShortestPath(args=[input_directory, \n",
    "                         '--no-strict-protocols',\n",
    "                        '--start',start_node,\n",
    "                        '--end',end_node,\n",
    "                        '--iteration',str(iterate)])\n",
    "    \n",
    "    \n",
    "    with mr_job.make_runner() as runner: \n",
    "        runner.run()\n",
    "        print \"Iteration : {0}\".format(iterate)\n",
    "        \n",
    "        #Stream output locally\n",
    "        with open(output_directory, 'w+') as f:\n",
    "            for line in runner.stream_output():\n",
    "                nid,distances =  mr_job.parse_output_line(line)\n",
    "                dist,adjlist,status,path  = distances\n",
    "                f.write(str(mr_job.parse_output_line(line))+'\\n')\n",
    "                if nid==end_node and status=='V':\n",
    "                    print \"DONE\"\n",
    "                    print \"Shortest path from {0} to {1} is {2} steps long:\".format(start_node,end_node,str(len(path)-1))\n",
    "                    print \"The path is: \",path\n",
    "                    stop=True\n",
    "                if nid==end_node:\n",
    "                    break\n",
    "\n",
    "        #just in case this thing does not stop..\n",
    "        iterate += 1   \n"
   ]
  },
  {
   "cell_type": "markdown",
   "metadata": {},
   "source": [
    "## HW 7.2 - NLTK Shortest Path - Run on Amazon EMR"
   ]
  },
  {
   "cell_type": "code",
   "execution_count": 21,
   "metadata": {
    "collapsed": false
   },
   "outputs": [
    {
     "name": "stdout",
     "output_type": "stream",
     "text": [
      "Iteration : 1\n",
      "Iteration : 2\n",
      "Iteration : 3\n",
      "Iteration : 4\n",
      "DONE\n",
      "Shortest path from 7827 to 536 is 3 steps long:\n",
      "The path is:  ['7827', '4655', '631', '536']\n"
     ]
    }
   ],
   "source": [
    "# NLTK example, running in EMR\n",
    "%reload_ext autoreload\n",
    "%autoreload 2\n",
    "from shortestpath import MRShortestPath\n",
    "from __future__ import division\n",
    "\n",
    "iterate = 1\n",
    "stop = False\n",
    "\n",
    "# This is the Amazon EMR cluster ID that gets created at the top of the notebook\n",
    "cluster='j-2TVDH7F520X1Y'\n",
    "\n",
    "#### NLTK VERSION #####\n",
    "input_dir_prefix='synNet'\n",
    "start_node='7827'\n",
    "end_node='536'\n",
    "\n",
    "#### RUN THE JOBS #####\n",
    "#The second condition is insurance to make sure we stop after a finite number of cycles...just in case\n",
    "while(not stop and iterate <= 10):\n",
    "\n",
    "    if iterate==1:\n",
    "        input_directory='s3://jamesgray-w261/'+input_dir_prefix+'.txt'\n",
    "    else:\n",
    "        input_directory='s3://jamesgray-w261/'+input_dir_prefix+'Output{0}/'.format(str(iterate-1))\n",
    "    \n",
    "    #EMR VERSION\n",
    "    mr_job = MRShortestPath(args=['-r', \n",
    "                         'emr',\n",
    "                         input_directory,\n",
    "                         '--start',start_node,\n",
    "                         '--end',end_node,\n",
    "                         '--no-strict-protocols',\n",
    "                         '--output-dir','s3://jamesgray-w261/'+input_dir_prefix+'Output{0}'.format(str(iterate)),\n",
    "                         '--no-output',\n",
    "                         '--jobtype','emr',\n",
    "                         '--emr-job-flow-id', cluster,\n",
    "                         '--iteration',str(iterate)\n",
    "                        ])\n",
    "\n",
    " \n",
    "    with mr_job.make_runner() as runner: \n",
    "        runner.run()\n",
    "        print \"Iteration : {0}\".format(iterate)\n",
    "        for line in runner.stream_output():\n",
    "            nid,distances =  mr_job.parse_output_line(line)\n",
    "            dist,adjlist,status,path  = distances\n",
    "            if nid==end_node and status=='V':\n",
    "                print \"DONE\"\n",
    "                print \"Shortest path from {0} to {1} is {2} steps long:\".format(start_node,end_node,str(len(path)-1))\n",
    "                print \"The path is: \",path\n",
    "                stop=True\n",
    "            if nid==end_node:\n",
    "                break\n",
    "            \n",
    "        #just in case this thing does not stop..\n",
    "        iterate += 1   "
   ]
  },
  {
   "cell_type": "markdown",
   "metadata": {},
   "source": [
    "# HW 7.3: Exploratory data analysis (Wikipedia)\n",
    "\n",
    "Using MRJob, explore the Wikipedia network data on the AWS cloud. Reuse your code from HW 7.1---does is scale well? \n",
    "Be cautioned that Wikipedia is a directed network, where links are not symmetric. \n",
    "So, even though a node may be linked to, it will not appear as a primary record itself if it has no out-links. \n",
    "This means that you may have to ADJUST your code (depending on its design). \n",
    "To be sure of your code's functionality in this context, run a systems test on the directed_toy.txt network.\n"
   ]
  },
  {
   "cell_type": "markdown",
   "metadata": {},
   "source": [
    "## HW 7.3 - EDA on Wikipedia data using 7.1 Code\n",
    "\n",
    "In this section we will use the code from HW7.1 and explore the Wikipedia data using AWS.  In regard to scaling well, this code took a lot longer to process than 7.1"
   ]
  },
  {
   "cell_type": "code",
   "execution_count": 23,
   "metadata": {
    "collapsed": false
   },
   "outputs": [
    {
     "name": "stdout",
     "output_type": "stream",
     "text": [
      "Total # of network nodes = 5781290\n",
      "Total # of network edges = 142114057\n",
      "Average Edges/Node = 24.5817208616\n"
     ]
    }
   ],
   "source": [
    "%reload_ext autoreload\n",
    "%autoreload 2\n",
    "from __future__ import division\n",
    "from eda import MRnltkeda\n",
    "\n",
    "input_dir_prefix='all-pages-indexed-out'\n",
    "input_directory='s3://jamesgray-w261/'+input_dir_prefix+'.txt'\n",
    "cluster='j-2TVDH7F520X1Y'\n",
    "\n",
    "#EMR VERSION\n",
    "mr_job = MRnltkeda(args=['-r', 'emr',\n",
    "                     input_directory,\n",
    "                     '--no-strict-protocols',\n",
    "                     '--output-dir','s3://jamesgray-w261/wiki_eda_output',\n",
    "                     '--no-output',\n",
    "                     '--emr-job-flow-id', cluster,\n",
    "                    ])\n",
    "\n",
    "nodes=0\n",
    "edges=0\n",
    "with mr_job.make_runner() as runner:\n",
    "    runner.run()\n",
    "    for line in runner.stream_output():\n",
    "        _,count =  mr_job.parse_output_line(line)\n",
    "        nodes+=count[0]\n",
    "        edges+=count[1]\n",
    "\n",
    "print \"Total # of network nodes = {}\".format(nodes)   \n",
    "print \"Total # of network edges = {}\".format(edges)   \n",
    "print \"Average Edges/Node = {}\".format(edges/nodes)"
   ]
  },
  {
   "cell_type": "code",
   "execution_count": 24,
   "metadata": {
    "collapsed": false
   },
   "outputs": [
    {
     "name": "stdout",
     "output_type": "stream",
     "text": [
      "Done\n"
     ]
    }
   ],
   "source": [
    "# Calculating degree distribution on full Wikipedia dataset\n",
    "%reload_ext autoreload\n",
    "%autoreload 2\n",
    "from __future__ import division\n",
    "from eda import MRnltkeda\n",
    "\n",
    "input_dir_prefix='all-pages-indexed-out'\n",
    "input_directory='s3://jamesgray-w261/'+input_dir_prefix+'.txt'\n",
    "cluster='j-2TVDH7F520X1Y'\n",
    "\n",
    "#EMR VERSION\n",
    "mr_job = MRnltkeda(args=['-r', 'emr',\n",
    "                     input_directory,\n",
    "                     '--no-strict-protocols',\n",
    "                     '--output-dir','s3://jamesgray-w261/wiki_dist_output',\n",
    "                     '--no-output',\n",
    "                     '--emr-job-flow-id', cluster,\n",
    "                    ])\n",
    "\n",
    "with open ('{0}_degree_distribution_EMR.txt'.format(input_dir_prefix),'w') as f:\n",
    "    with mr_job.make_runner() as runner:\n",
    "        runner.run()\n",
    "        for line in runner.stream_output():\n",
    "            #Write results to a file so we can plot them more easily\n",
    "            f.writelines(line)\n",
    "\n",
    "print \"Done\""
   ]
  },
  {
   "cell_type": "code",
   "execution_count": 25,
   "metadata": {
    "collapsed": false
   },
   "outputs": [
    {
     "ename": "NameError",
     "evalue": "name 'null' is not defined",
     "output_type": "error",
     "traceback": [
      "\u001b[0;31m---------------------------------------------------------------------------\u001b[0m",
      "\u001b[0;31mNameError\u001b[0m                                 Traceback (most recent call last)",
      "\u001b[0;32m<ipython-input-25-de179bd0760f>\u001b[0m in \u001b[0;36m<module>\u001b[0;34m()\u001b[0m\n\u001b[1;32m      5\u001b[0m     \u001b[0;32mfor\u001b[0m \u001b[0mline\u001b[0m \u001b[0;32min\u001b[0m \u001b[0mf\u001b[0m\u001b[0;34m.\u001b[0m\u001b[0mreadlines\u001b[0m\u001b[0;34m(\u001b[0m\u001b[0;34m)\u001b[0m\u001b[0;34m:\u001b[0m\u001b[0;34m\u001b[0m\u001b[0m\n\u001b[1;32m      6\u001b[0m         \u001b[0mdata\u001b[0m\u001b[0;34m=\u001b[0m\u001b[0mline\u001b[0m\u001b[0;34m.\u001b[0m\u001b[0mstrip\u001b[0m\u001b[0;34m(\u001b[0m\u001b[0;34m'\\n'\u001b[0m\u001b[0;34m)\u001b[0m\u001b[0;34m.\u001b[0m\u001b[0msplit\u001b[0m\u001b[0;34m(\u001b[0m\u001b[0;34m'\\t'\u001b[0m\u001b[0;34m)\u001b[0m\u001b[0;34m\u001b[0m\u001b[0m\n\u001b[0;32m----> 7\u001b[0;31m         \u001b[0mdegree\u001b[0m\u001b[0;34m=\u001b[0m\u001b[0mint\u001b[0m\u001b[0;34m(\u001b[0m\u001b[0meval\u001b[0m\u001b[0;34m(\u001b[0m\u001b[0mdata\u001b[0m\u001b[0;34m[\u001b[0m\u001b[0;36m0\u001b[0m\u001b[0;34m]\u001b[0m\u001b[0;34m)\u001b[0m\u001b[0;34m)\u001b[0m\u001b[0;34m\u001b[0m\u001b[0m\n\u001b[0m\u001b[1;32m      8\u001b[0m         \u001b[0mcount\u001b[0m\u001b[0;34m=\u001b[0m\u001b[0mint\u001b[0m\u001b[0;34m(\u001b[0m\u001b[0mdata\u001b[0m\u001b[0;34m[\u001b[0m\u001b[0;36m1\u001b[0m\u001b[0;34m]\u001b[0m\u001b[0;34m)\u001b[0m\u001b[0;34m\u001b[0m\u001b[0m\n\u001b[1;32m      9\u001b[0m         \u001b[0mx\u001b[0m\u001b[0;34m.\u001b[0m\u001b[0mappend\u001b[0m\u001b[0;34m(\u001b[0m\u001b[0mdegree\u001b[0m\u001b[0;34m)\u001b[0m\u001b[0;34m\u001b[0m\u001b[0m\n",
      "\u001b[0;32m<string>\u001b[0m in \u001b[0;36m<module>\u001b[0;34m()\u001b[0m\n",
      "\u001b[0;31mNameError\u001b[0m: name 'null' is not defined"
     ]
    }
   ],
   "source": [
    "# plot distribution from EMR\n",
    "x=[]\n",
    "y=[]\n",
    "with open ('{0}_degree_distribution_EMR.txt'.format(input_dir_prefix),'r') as f:\n",
    "    for line in f.readlines():\n",
    "        data=line.strip('\\n').split('\\t')\n",
    "        degree=int(eval(data[0]))\n",
    "        count=int(data[1])\n",
    "        x.append(degree)\n",
    "        y.append(count)\n",
    "\n",
    "plt.bar(x,y)\n",
    "plt.xlabel('Degree')\n",
    "plt.ylabel('Frequency')\n",
    "plt.title('Degree Distribution')\n",
    "plt.show()"
   ]
  },
  {
   "cell_type": "markdown",
   "metadata": {},
   "source": [
    "# HW 7.4: Shortest path graph distances (Wikipedia)\n",
    "\n",
    "Using MRJob, find shortest path graph distances in the Wikipedia network on the AWS cloud.\n",
    "Reuse your code from 7.2, but once again be warned of Wikipedia being a directed network.\n",
    "To be sure of your code's functionality in this context, run a systems test on the directed_toy.txt network.\n",
    "\n",
    "When running your code on the Wikipedia network, proof its function by running the job:\n",
    "\n",
    "- shortest path from \"Ireland\" (index=6176135) to \"University of California, Berkeley\" (index=13466359),\n",
    "\n",
    "and show your code's output. Show the shortest path in terms of just page IDS but also in terms of the name of page (show of your MapReduce join skills!!)\n",
    "\n",
    "Once your code is running, find some other shortest paths and report your results."
   ]
  },
  {
   "cell_type": "code",
   "execution_count": 30,
   "metadata": {
    "collapsed": false
   },
   "outputs": [],
   "source": [
    "# Here we will load the index into memory.\n",
    "word_dict={}\n",
    "node_dict={}\n",
    "with open('./wiki/indices.txt') as f:\n",
    "    for line in f.readlines():\n",
    "        word,node_id,_,_=line.strip().split('\\t')\n",
    "        node_dict[node_id]=word #Enables us to find words by ID\n",
    "        word_dict[word]=node_id #Enables us to find IDs by word"
   ]
  },
  {
   "cell_type": "code",
   "execution_count": 31,
   "metadata": {
    "collapsed": false
   },
   "outputs": [
    {
     "name": "stdout",
     "output_type": "stream",
     "text": [
      "Iteration : 1\n",
      "Iteration : 2\n",
      "Iteration : 3\n",
      "DONE\n",
      "Shortest path from Ireland to University of California, Berkeley is 2 steps long:\n",
      "The path is: \n",
      "Ireland (6176135) ->\n",
      "Seamus Heaney (11607791) ->\n",
      "University of California, Berkeley (13466359)\n"
     ]
    }
   ],
   "source": [
    "# HW 7.4 - Full Wikipedia data, running in EMR\n",
    "%reload_ext autoreload\n",
    "%autoreload 2\n",
    "from shortestpath import MRShortestPath\n",
    "from __future__ import division\n",
    "\n",
    "iterate = 1\n",
    "stop = False\n",
    "\n",
    "# Amazon EMR Cluster ID\n",
    "cluster='j-2TVDH7F520X1Y'\n",
    "\n",
    "# Wikipedia index\n",
    "input_dir_prefix='wiki'\n",
    "start_node='6176135'  # we are starting the \"walk\" from Ireland\n",
    "end_node='13466359' # we are ending the \"walk\" at UC Berkeley\n",
    "\n",
    "# The second condition is insurance to make sure we stop after a finite number of cycles...just in case\n",
    "while(not stop and iterate <= 10):\n",
    "    \n",
    "    if iterate==1:\n",
    "        input_directory='s3://jamesgray-w261/all-pages-indexed-out.txt'\n",
    "    else:\n",
    "        input_directory='s3://jamesgray-w261/'+input_dir_prefix+'Output{0}/'.format(str(iterate-1))\n",
    "    \n",
    "    #EMR VERSION\n",
    "    mr_job = MRShortestPath(args=['-r', \n",
    "                         'emr',\n",
    "                         input_directory,\n",
    "                         '--start',start_node,\n",
    "                         '--end',end_node,\n",
    "                         '--no-strict-protocols',\n",
    "                         '--output-dir','s3://jamesgray-w261/'+input_dir_prefix+'Output{0}'.format(str(iterate)),\n",
    "                         '--no-output',\n",
    "                         '--jobtype','emr',\n",
    "                         '--emr-job-flow-id', cluster,\n",
    "                         '--iteration',str(iterate)\n",
    "                        ])\n",
    "\n",
    " \n",
    "    with mr_job.make_runner() as runner: \n",
    "        runner.run()\n",
    "        print \"Iteration : {0}\".format(iterate)\n",
    "        for line in runner.stream_output():\n",
    "            nid,distances =  mr_job.parse_output_line(line)\n",
    "            dist,adjlist,status,path  = distances\n",
    "            \n",
    "            #If we've hit our stopping condition, print results and finish up\n",
    "            if nid==end_node and status=='V':\n",
    "                word_path=[node_dict[word]+' ('+word+')' for word in path]\n",
    "                print \"DONE\"\n",
    "                print \"Shortest path from {0} to {1} is {2} steps long:\".format(node_dict[start_node],node_dict[end_node],str(len(path)-1))\n",
    "                print \"The path is: \\n\",' ->\\n'.join(word_path)\n",
    "                stop=True\n",
    "            if nid==end_node:\n",
    "                break\n",
    "        # increment the iteration we are on\n",
    "        iterate += 1   "
   ]
  },
  {
   "cell_type": "markdown",
   "metadata": {},
   "source": [
    "# HW 7.5: Conceptual exercise: Largest single-source network distances\n",
    "\n",
    "Suppose you wanted to find the largest network distance from a single source,\n",
    "i.e., a node that is the furthest (but still reachable) from a single source.\n",
    "\n",
    "How would you implement this task? \n",
    "How is this different from finding the shortest path graph distances?\n",
    "\n",
    "Is this task more difficult to implement than the shortest path distance?\n",
    "\n",
    "As you respond, please comment on program structure, runtimes, iterations, general system requirements, etc..."
   ]
  },
  {
   "cell_type": "markdown",
   "metadata": {},
   "source": [
    "### HW7.5 -  Thoughts on Largest distance problem\n",
    "\n",
    "The following two articles provide some insight to the longest path problem\n",
    "* https://en.wikipedia.org/wiki/Longest_path_problem\n",
    "* http://www.geeksforgeeks.org/find-longest-path-directed-acyclic-graph/\n",
    "\n",
    "Conceptually I would expect a similar iteration framework to the shortest path problem but perhaps it would need to run longer to ensure it processed the entire graph network.  The articles above state that the longest distance problem cannot be solved in polynomial time unlike the shortest path problem so computationally it would follow that its more intensive and requires a longer processing cycle.\n",
    "\n"
   ]
  },
  {
   "cell_type": "markdown",
   "metadata": {},
   "source": [
    "# HW 7.5.1: \n",
    "\n",
    "**_Can we utilize combiners in the HW 7 to perform the shortest path implementation?_**\n",
    "\n",
    "My guess is that we could likely use a combiner to reduce network traffic by resolving and netting out nodes that have been already visited so they are not passed to the reducer for processing.  \n",
    "\n",
    "**_Does order inversion help with the HW 7 shortest path implementation?_**\n",
    "\n",
    "I asssume this refers to reducing the processing load on the reducer by using order inversion. While I am not completely sure, perhaps processing could be reduced if the order aligned with the sequencing of the nodes for the path (meaning the ordering were the nodes in the frontier).\n",
    "\n"
   ]
  },
  {
   "cell_type": "markdown",
   "metadata": {},
   "source": [
    "# HW 7.5.2: OPTIONAL\n",
    "\n",
    "Implement combiners in the context of HW 7.5 and contrast the performance of this implementation versus the implementation with  no combiners. Please report the cluster configuration and runtimes in tabular format for both experiments and comment on your findings."
   ]
  },
  {
   "cell_type": "markdown",
   "metadata": {},
   "source": [
    "# HW 7.6: Computational exercise: Largest single-source network distances (optional)\n",
    "\n",
    "Using MRJob, write a code to find the largest graph distance and distance-maximizing nodes from a single-source.\n",
    "Test your code first on the toy networks and synonyms network to proof its function."
   ]
  },
  {
   "cell_type": "code",
   "execution_count": null,
   "metadata": {
    "collapsed": true
   },
   "outputs": [],
   "source": []
  }
 ],
 "metadata": {
  "kernelspec": {
   "display_name": "Python 2",
   "language": "python",
   "name": "python2"
  },
  "language_info": {
   "codemirror_mode": {
    "name": "ipython",
    "version": 2
   },
   "file_extension": ".py",
   "mimetype": "text/x-python",
   "name": "python",
   "nbconvert_exporter": "python",
   "pygments_lexer": "ipython2",
   "version": "2.7.11"
  }
 },
 "nbformat": 4,
 "nbformat_minor": 0
}
