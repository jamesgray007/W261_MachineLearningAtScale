{
 "metadata": {
  "kernelspec": {
   "display_name": "Python 2",
   "language": "python",
   "name": "python2"
  },
  "language_info": {
   "codemirror_mode": {
    "name": "ipython",
    "version": 2
   },
   "file_extension": ".py",
   "mimetype": "text/x-python",
   "name": "python",
   "nbconvert_exporter": "python",
   "pygments_lexer": "ipython2",
   "version": "2.7.11"
  },
  "name": "",
  "signature": "sha256:b619f5b6da5b73d3971ed91f3ffa7a34eb95a05f5e0294c5ec234a3a36f5a3d9"
 },
 "nbformat": 3,
 "nbformat_minor": 0,
 "worksheets": [
  {
   "cells": [
    {
     "cell_type": "markdown",
     "metadata": {},
     "source": [
      "### James Gray | jamesgray@ischool.berkeley.edu\n",
      "### MIDS w261 Machine Learning at Scale MidTerm exam, Week 8, Summer, 2016\n"
     ]
    },
    {
     "cell_type": "markdown",
     "metadata": {},
     "source": [
      "## ===Map-Reduce===\n",
      "\n",
      "MT1. Which of the following statememts about map-reduce are true? Check all that apply.\n",
      "\n",
      "* (a) If you only have 1 computer with 1 computing core, then map-reduce is unlikely to help \n",
      "* (b) If we run map-reduce using N computers, then we will always get at least an N-Fold speedup compared to using 1 computer \n",
      "* (c) Because of network latency and other overhead associated with map-reduce, if we run map-reduce using N computers, then we will get less than N-Fold speedup compared to using 1 computer\n",
      "* (d) When using map-reduce with gradient descent, we usually use a single machine that accumulates the gradients from each of the map-reduce machines, in order to compute the paramter update for the iterion\n",
      "\n",
      "\n",
      "MT1 = C, D"
     ]
    },
    {
     "cell_type": "markdown",
     "metadata": {},
     "source": [
      "## ===Order inversion===\n",
      "\n",
      "MT2. Suppose you wish to write a MapReduce job that creates \n",
      "normalized word co-occurrence data form a large input text. \n",
      "To ensure that all (potentially many) reducers\n",
      "receive appropriate normalization factors (denominators)\n",
      "in the correct order in their input streams\n",
      "(so as to minimize memory overhead), \n",
      "the mapper should emit according to which pattern:\n",
      "\n",
      "* (a) emit (*,word) count\n",
      "* (b) There is no need to use  order inversion here\n",
      "* (c) emit (word,*) count\n",
      "* (d) None of the above\n",
      "\n",
      "\n",
      "\n",
      "MT2 = A"
     ]
    },
    {
     "cell_type": "markdown",
     "metadata": {},
     "source": [
      "##===Map-Reduce===\n",
      "\n",
      "MT3. What is the input to the Reduce function in MRJob? Select the most correct choice.\n",
      "\n",
      "* (a) An arbitrarily sized list of key/value pairs. \n",
      "* (b) One key and a list of some values associated with that key.\n",
      "* (c) One key and a list of all values associated with that key.\n",
      "* (d) None of the above\n",
      "\n",
      "MT3 = C"
     ]
    },
    {
     "cell_type": "markdown",
     "metadata": {},
     "source": [
      "## ===Bayesian document classification===\n",
      "\n",
      "MT4. When building a Bayesian document classifier, Laplace smoothing serves what purpose?\n",
      "\n",
      "* (a) It allows you to use your training data as your validation data.\n",
      "* (b) It prevents zero-products in the posterior distribution.\n",
      "* (c) It accounts for words that were missed by regular expressions. \n",
      "* (d) None of the above\n",
      "\n",
      "\n",
      "MT4 = B"
     ]
    },
    {
     "cell_type": "markdown",
     "metadata": {},
     "source": [
      "## ===Bias-variance tradeoff===\n",
      "\n",
      "MT5. By increasing the complexity of a model regressed on some samples of data,\n",
      "it is likely that the ensemble will exhibit which of the following?\n",
      "\n",
      "* (a) Increased variance and bias\n",
      "* (b) Increased variance and decreased bias\n",
      "* (c) Decreased variance and bias\n",
      "* (d) Decreased variance and increased bias\n",
      "\n",
      "\n",
      "MT5 = B"
     ]
    },
    {
     "cell_type": "markdown",
     "metadata": {},
     "source": [
      "## ===Combiners===\n",
      "\n",
      "MT6. Combiners can be integral to the successful utilization of the Hadoop shuffle.\n",
      "This utility is as a result of (select the most correct answer only)\n",
      "\n",
      "* (a) minimization of reducer workload\n",
      "* (b) both (a) and (c)\n",
      "* (c) minimization of network traffic\n",
      "* (d) none of the above\n",
      "\n",
      "MT6 = B"
     ]
    },
    {
     "cell_type": "code",
     "collapsed": false,
     "input": [
      "%load_ext autoreload\n",
      "%autoreload 2"
     ],
     "language": "python",
     "metadata": {},
     "outputs": [
      {
       "output_type": "stream",
       "stream": "stdout",
       "text": [
        "The autoreload extension is already loaded. To reload it, use:\n",
        "  %reload_ext autoreload\n"
       ]
      }
     ],
     "prompt_number": 16
    },
    {
     "cell_type": "markdown",
     "metadata": {},
     "source": [
      "# Pairwise similarity using K-L divergence\n",
      "\n",
      "In probability theory and information theory, the Kullback\u2013Leibler divergence \n",
      "(also information divergence, information gain, relative entropy, KLIC, or KL divergence) \n",
      "is a non-symmetric measure of the difference between two probability distributions P and Q. \n",
      "Specifically, the Kullback\u2013Leibler divergence of Q from P, denoted DKL(P\u2016Q), \n",
      "is a measure of the information lost when Q is used to approximate P:\n",
      "\n",
      "For discrete probability distributions P and Q, \n",
      "the Kullback\u2013Leibler divergence of Q from P is defined to be\n",
      "\n",
      "KLDistance(P, Q) = Sum over i (P(i) log (P(i) / Q(i))      \n",
      "\n",
      "In the extreme cases, the KL Divergence is 1 when P and Q are maximally different\n",
      "and is 0 when the two distributions are exactly the same (follow the same distribution).\n",
      "\n",
      "For more information on K-L Divergence see:\n",
      "\n",
      "https://en.wikipedia.org/wiki/Kullback%E2%80%93Leibler_divergence\n",
      "\n",
      "For the next three question we will use an MRjob class for calculating pairwise similarity \n",
      "using K-L Divergence as the similarity measure:\n",
      "\n",
      "* Job 1: create inverted index (assume just two objects)\n",
      "* Job 2: calculate/accumulate the similarity of each pair of objects using K-L Divergence\n",
      "\n",
      "Download the following notebook and then fill in the code for the first reducer to calculate \n",
      "the K-L divergence of objects (letter documents) in line1 and line2, i.e., KLD(Line1||line2).\n",
      "\n",
      "Here we ignore characters which are not alphabetical. And all alphabetical characters are lower-cased in the first mapper.\n",
      "\n",
      "http://nbviewer.ipython.org/urls/dl.dropbox.com/s/9onx4c2dujtkgd7/Kullback%E2%80%93Leibler%20divergence-MIDS-Midterm.ipynb\n",
      "https://www.dropbox.com/s/zr9xfhwakrxz9hc/Kullback%E2%80%93Leibler%20divergence-MIDS-Midterm.ipynb?dl=0\n"
     ]
    },
    {
     "cell_type": "heading",
     "level": 2,
     "metadata": {},
     "source": [
      "Using the MRJob Class below calculate the KL divergence of the following two objects."
     ]
    },
    {
     "cell_type": "code",
     "collapsed": false,
     "input": [
      "%%writefile kltext.txt\n",
      "1.Data Science is an interdisciplinary field about processes and systems to extract knowledge or insights from large volumes of data in various forms (data in various forms, data in various forms, data in various forms), either structured or unstructured,[1][2] which is a continuation of some of the data analysis fields such as statistics, data mining and predictive analytics, as well as Knowledge Discovery in Databases.\n",
      "2.Machine learning is a subfield of computer science[1] that evolved from the study of pattern recognition and computational learning theory in artificial intelligence.[1] Machine learning explores the study and construction of algorithms that can learn from and make predictions on data.[2] Such algorithms operate by building a model from example inputs in order to make data-driven predictions or decisions,[3]:2 rather than following strictly static program instructions."
     ],
     "language": "python",
     "metadata": {},
     "outputs": [
      {
       "output_type": "stream",
       "stream": "stdout",
       "text": [
        "Overwriting kltext.txt\n"
       ]
      }
     ],
     "prompt_number": 46
    },
    {
     "cell_type": "code",
     "collapsed": false,
     "input": [
      "%load_ext autoreload"
     ],
     "language": "python",
     "metadata": {},
     "outputs": [
      {
       "output_type": "stream",
       "stream": "stdout",
       "text": [
        "The autoreload extension is already loaded. To reload it, use:\n",
        "  %reload_ext autoreload\n"
       ]
      }
     ],
     "prompt_number": 47
    },
    {
     "cell_type": "heading",
     "level": 2,
     "metadata": {},
     "source": [
      "MRjob class for calculating pairwise similarity using K-L Divergence as the similarity measure"
     ]
    },
    {
     "cell_type": "markdown",
     "metadata": {},
     "source": [
      "Job 1: create inverted index (assume just two objects)\n",
      "\n",
      "Job 2: calculate the similarity of each pair of objects"
     ]
    },
    {
     "cell_type": "code",
     "collapsed": false,
     "input": [
      "import numpy as np\n",
      "np.log(3)"
     ],
     "language": "python",
     "metadata": {},
     "outputs": [
      {
       "metadata": {},
       "output_type": "pyout",
       "prompt_number": 5,
       "text": [
        "1.0986122886681098"
       ]
      }
     ],
     "prompt_number": 5
    },
    {
     "cell_type": "code",
     "collapsed": false,
     "input": [
      "%%writefile kldivergence.py\n",
      "#!/opt/anaconda/bin/python\n",
      "from collections import Counter\n",
      "from mrjob.job import MRJob\n",
      "from mrjob.step import MRStep\n",
      "from mrjob.protocol import JSONProtocol\n",
      "import numpy as np\n",
      "import re\n",
      "import sys\n",
      "\n",
      "class kldivergence(MRJob):\n",
      "    INTERNAL_PROTOCOL=JSONProtocol\n",
      "    def mapper1(self, _, line):\n",
      "        index = line.split('.',1)[0]\n",
      "        letter_list = re.sub(r\"[^A-Za-z]+\", '', line).lower()\n",
      "        count = Counter()\n",
      "        for l in letter_list:\n",
      "            count[l] += 1\n",
      "        # change for MT8\n",
      "        for key in count:\n",
      "            #yield key, {index, count[key]*1.0/len(letter_list)}\n",
      "            yield key, {index: (1.0+count[key])/(24.0+len(letter_list))}  # for 2nd part\n",
      "            \n",
      "    def reducer1(self, key, values):\n",
      "        # input into the reducer is the inverted index posting with frequency count\n",
      "        row={}\n",
      "        for val in values:\n",
      "            row.update(val)\n",
      "        p_i=row.get('1')\n",
      "        q_i=row.get('2')\n",
      "        yield key, p_i*np.log(p_i/q_i)\n",
      "        \n",
      "    def agg(self, key, value):\n",
      "        print \"key\", key        \n",
      "        yield None, value\n",
      "    def reducer2(self, key, values):\n",
      "        yield None, sum(values)\n",
      "            \n",
      "    def steps(self):\n",
      "        return [MRStep(mapper=self.mapper1,\n",
      "                        reducer=self.reducer1),\n",
      "                MRStep(mapper=self.agg,\n",
      "                        reducer=self.reducer2)]\n",
      "\n",
      "if __name__ == '__main__':\n",
      "    kldivergence.run()"
     ],
     "language": "python",
     "metadata": {},
     "outputs": [
      {
       "output_type": "stream",
       "stream": "stdout",
       "text": [
        "Overwriting kldivergence.py\n"
       ]
      }
     ],
     "prompt_number": 27
    },
    {
     "cell_type": "code",
     "collapsed": false,
     "input": [
      "%autoreload 2\n",
      "from kldivergence import kldivergence\n",
      "mr_job = kldivergence(args=['kltext.txt'])\n",
      "with mr_job.make_runner() as runner: \n",
      "    runner.run()\n",
      "    # stream_output: get access of the output \n",
      "    for line in runner.stream_output():\n",
      "        print mr_job.parse_output_line(line)"
     ],
     "language": "python",
     "metadata": {},
     "outputs": [
      {
       "output_type": "stream",
       "stream": "stdout",
       "text": [
        "key a\n",
        "key b\n",
        "key c\n",
        "key d\n",
        "key e\n",
        "key f\n",
        "key g\n",
        "key h\n",
        "key i\n",
        "key k\n",
        "key l\n",
        "key m\n",
        "key n\n",
        "key o\n",
        "key p\n",
        "key r\n",
        "key s\n",
        "key t\n",
        "key u\n",
        "key v\n",
        "key w\n",
        "key x\n",
        "key y\n",
        "(None, 0.06726997279170038)\n"
       ]
      }
     ],
     "prompt_number": 28
    },
    {
     "cell_type": "markdown",
     "metadata": {},
     "source": [
      "### MT7. Which number below is the closest to the result you get for KLD(Line1||line2)?\n",
      "* (a) 0.7\n",
      "* (b) 0.5\n",
      "* (c) 0.2\n",
      "* (d) 0.1\n",
      "\n",
      "**ANSWER = D** \n",
      "\n",
      "### MT8. Which of the following letters are missing from these character vectors?\n",
      "* (a) p and t\n",
      "* (b) k and q\n",
      "* (c) j and q\n",
      "* (d) j and f\n",
      "\n",
      "** ANSWER = C **\n",
      "\n",
      "###MT9. The KL divergence on multinomials is defined only when they have nonzero entries. For zero entries, we have to smooth distributions. Suppose we smooth in this way: \n",
      "\n",
      "(ni+1)/(n+24)\n",
      "\n",
      "where ni is the count for letter i and n is the total count of all letters. \n",
      "After smoothing, which number below is the closest to the result you get for KLD(Line1||line2)??\n",
      "\n",
      "* (a) 0.08\n",
      "* (b) 0.71\n",
      "* (c) 0.02\n",
      "* (d) 0.11\n",
      "\n",
      "** ANSWER = A**"
     ]
    },
    {
     "cell_type": "markdown",
     "metadata": {},
     "source": [
      "## ===Gradient descent===\n",
      "\n",
      "MT10. Which of the following are true statements with respect to gradient descent for machine learning, where alpha is the learning rate. Select all that apply\n",
      "\n",
      "* (a) To make gradient descent converge, we must slowly decrease alpha over time and use a combiner in the context of Hadoop.\n",
      "* (b) Gradient descent is guaranteed to find the global minimum for any function J() regardless of using a combiner or not in the context of Hadoop\n",
      "* (c) Gradient descent can converge even if alpha is kept fixed. (But alpha cannot be too large, or else it may fail to converge.) Combiners will help speed up the process.\n",
      "* (d) For the specific choice of cost function J() used in linear regression, there is no local optima (other than the global optimum).\n",
      "\n",
      "MT10 = C,D"
     ]
    },
    {
     "cell_type": "markdown",
     "metadata": {},
     "source": [
      "## MrJob class for Kmeans\n",
      "\n",
      "Write a MapReduce job in MRJob to do the training at scale of a weighted K-means algorithm.\n",
      "\n",
      "You can write your own code or you can use most of the code from the following notebook:\n",
      "\n",
      "http://nbviewer.ipython.org/urls/dl.dropbox.com/s/kjtdyi10nwmk4ko/MrJobKmeans-MIDS-Midterm.ipynb\n",
      "https://www.dropbox.com/s/kjtdyi10nwmk4ko/MrJobKmeans-MIDS-Midterm.ipynb?dl=0\n",
      "\n",
      "Weight each example as follows using the inverse vector length (Euclidean norm): \n",
      "\n",
      "weight(X)= 1/||X||, \n",
      "\n",
      "where ||X|| = SQRT(X.X)= SQRT(X1^2 + X2^2)\n",
      "\n",
      "Here X is vector made up of X1 and X2.\n",
      "\n",
      "Using the following data answer the following questions:\n",
      "\n",
      "https://www.dropbox.com/s/ai1uc3q2ucverly/Kmeandata.csv?dl=0\n"
     ]
    },
    {
     "cell_type": "code",
     "collapsed": false,
     "input": [
      "# get the data\n",
      "\n",
      "!wget - q -O kmeans.csv https://www.dropbox.com/s/ai1uc3q2ucverly/Kmeandata.csv?dl=0"
     ],
     "language": "python",
     "metadata": {},
     "outputs": [
      {
       "output_type": "stream",
       "stream": "stdout",
       "text": [
        "--2016-06-29 18:16:16--  http://-/\n",
        "Resolving -... failed: nodename nor servname provided, or not known.\n",
        "wget: unable to resolve host address '-'\n",
        "--2016-06-29 18:16:16--  http://q/\n",
        "Resolving q... failed: nodename nor servname provided, or not known.\n",
        "wget: unable to resolve host address 'q'\n",
        "--2016-06-29 18:16:16--  https://www.dropbox.com/s/ai1uc3q2ucverly/Kmeandata.csv?dl=0\n",
        "Resolving www.dropbox.com... 162.125.4.1\n",
        "Connecting to www.dropbox.com|162.125.4.1|:443... connected.\n",
        "HTTP request sent, awaiting response... 302 Found\n",
        "Location: https://dl.dropboxusercontent.com/content_link/ExwXOI1qH5IBFosNHDe9zyw1tDD40Z799wWzEIhoWFpazdaBgAEpMHQxNB7KW77o/file [following]\n",
        "--2016-06-29 18:16:17--  https://dl.dropboxusercontent.com/content_link/ExwXOI1qH5IBFosNHDe9zyw1tDD40Z799wWzEIhoWFpazdaBgAEpMHQxNB7KW77o/file\n",
        "Resolving dl.dropboxusercontent.com... 45.58.69.5\n",
        "Connecting to dl.dropboxusercontent.com|45.58.69.5|:443... connected.\n",
        "HTTP request sent, awaiting response... 200 OK\n",
        "Length: 155486 (152K) [text/csv]\n",
        "Saving to: 'kmeans.csv'\n",
        "\n",
        "kmeans.csv          100%[=====================>] 151.84K   754KB/s   in 0.2s   \n",
        "\n",
        "2016-06-29 18:16:18 (754 KB/s) - 'kmeans.csv' saved [155486/155486]\n",
        "\n",
        "FINISHED --2016-06-29 18:16:18--\n",
        "Total wall clock time: 1.9s\n",
        "Downloaded: 1 files, 152K in 0.2s (754 KB/s)\n"
       ]
      }
     ],
     "prompt_number": 16
    },
    {
     "cell_type": "code",
     "collapsed": false,
     "input": [
      "%%writefile Kmeans.py\n",
      "from itertools import chain\n",
      "from mrjob.job import MRJob\n",
      "from mrjob.step import MRStep\n",
      "from numpy import argmin, array, random, sqrt\n",
      "import sys\n",
      "\n",
      "#Calculate find the nearest centroid for data point \n",
      "def MinDist(datapoint, centroid_points):\n",
      "    datapoint = array(datapoint)\n",
      "    centroid_points = array(centroid_points)\n",
      "    diff = datapoint - centroid_points \n",
      "    diffsq = diff**2\n",
      "    distances = (diffsq.sum(axis = 1))**0.5\n",
      "    # Get the nearest centroid for each instance\n",
      "    min_idx = argmin(distances)\n",
      "    return min_idx\n",
      "\n",
      "#Check whether centroids converge\n",
      "def stop_criterion(centroid_points_old, centroid_points_new,T):\n",
      "    oldvalue = list(chain(*centroid_points_old))\n",
      "    newvalue = list(chain(*centroid_points_new))\n",
      "    Diff = [abs(x-y) for x, y in zip(oldvalue, newvalue)]\n",
      "    Flag = True\n",
      "    for i in Diff:\n",
      "        if(i>T):\n",
      "            Flag = False\n",
      "            break\n",
      "    return Flag\n",
      "\n",
      "\n",
      "class MRKmeans(MRJob):\n",
      "    centroid_points=[]\n",
      "    k=3 \n",
      "    def steps(self):\n",
      "        return [\n",
      "            MRStep(mapper_init = self.mapper_init, mapper=self.mapper,combiner = self.combiner,reducer=self.reducer)\n",
      "               ]\n",
      "    #load centroids info from file\n",
      "    def mapper_init(self):\n",
      "        with open(\"Centroids.txt\") as cent:\n",
      "            self.centroid_points = [map(float,s.split('\\n')[0].split(',')) for s in cent]\n",
      "        with open(\"Centroids.txt\", 'w') as cent:\n",
      "            pass\n",
      "    #load data and output the nearest centroid index and data point \n",
      "    def mapper(self, _, line):\n",
      "        D = (map(float,line.split(',')))\n",
      "        idx = MinDist(D,self.centroid_points)\n",
      "        w=1.0/sqrt(D[0]**2+D[1]**2)\n",
      "        yield int(idx), (w*D[0],w*D[1],w)\n",
      "    #Combine sum of data points locally\n",
      "    def combiner(self, idx, inputdata):\n",
      "        sumx = sumy = wgt = 0\n",
      "        for x,y,w in inputdata:\n",
      "            wgt = wgt + w\n",
      "            sumx = sumx + x\n",
      "            sumy = sumy + y\n",
      "        yield int(idx),(sumx,sumy,wgt)\n",
      "    #Aggregate sum for each cluster and then calculate the new centroids\n",
      "    def reducer(self, idx, inputdata):\n",
      "        centroids = [[0,0]]*self.k\n",
      "        wgt = [0]*self.k\n",
      "        distances = 0\n",
      "        for x, y, w in inputdata:\n",
      "            wgt[idx] += w\n",
      "            centroids[idx][0] += x\n",
      "            centroids[idx][1] += y\n",
      "        centroids[idx][0] /= wgt[idx]\n",
      "        centroids[idx][1] /= wgt[idx]\n",
      "        with open('Centroids.txt', 'a') as f:\n",
      "            f.writelines(str(centroids[idx][0]) + ',' + str(centroids[idx][1]) + '\\n')\n",
      "        yield idx,(centroids[idx][0],centroids[idx][1])\n",
      "        \n",
      "if __name__ == '__main__':\n",
      "    MRKmeans.run()"
     ],
     "language": "python",
     "metadata": {},
     "outputs": [
      {
       "output_type": "stream",
       "stream": "stdout",
       "text": [
        "Overwriting Kmeans.py\n"
       ]
      }
     ],
     "prompt_number": 1
    },
    {
     "cell_type": "markdown",
     "metadata": {},
     "source": [
      "## Driver:\n",
      "\n",
      "* Generate random initial centroids\n",
      "* New Centroids = initial centroids\n",
      "\n",
      "While(1)\uff1a\n",
      "\n",
      "* Calcuate new centroids\n",
      "* stop if new centroids close to old centroids\n",
      "* Updates centroids"
     ]
    },
    {
     "cell_type": "code",
     "collapsed": false,
     "input": [
      "# %autoreload 2\n",
      "from numpy import random, array\n",
      "from Kmeans import MRKmeans, stop_criterion\n",
      "mr_job = MRKmeans(args=['kmeans.csv', '--file', 'Centroids.txt'])\n",
      "\n",
      "# generate initial centroid given these points\n",
      "centroid_points = [[0,0],[6,3],[3,6]]\n",
      "k = 3\n",
      "with open('Centroids.txt', 'w+') as f:\n",
      "    f.writelines(','.join(str(j) for j in i) + '\\n' for i in centroid_points)\n",
      "\n",
      "# Update centroids iteratively\n",
      "for i in range(10):\n",
      "    # save the centroids\n",
      "    centroid_points_old = centroid_points[:]\n",
      "    print \"iteration\"+str(i+1)+\":\"\n",
      "    with mr_job.make_runner() as runner: \n",
      "        runner.run()\n",
      "        # stream_output: get access of the output \n",
      "        for line in runner.stream_output():\n",
      "            key,value =  mr_job.parse_output_line(line)\n",
      "            print key, value\n",
      "            centroid_points[key] = value\n",
      "    print \"\\n\"\n",
      "    i = i + 1\n",
      "print \"Centroids\\n\"\n",
      "print centroid_points"
     ],
     "language": "python",
     "metadata": {},
     "outputs": [
      {
       "output_type": "stream",
       "stream": "stdout",
       "text": [
        "iteration1:\n",
        "0"
       ]
      },
      {
       "output_type": "stream",
       "stream": "stdout",
       "text": [
        " [-2.6816121341554244, 0.4387800225117981]\n",
        "1 [5.203939274722273, 0.18108381085421293]\n",
        "2 [0.2798236662882328, 5.147133354098043]\n",
        "\n",
        "\n",
        "iteration2:\n",
        "0"
       ]
      },
      {
       "output_type": "stream",
       "stream": "stdout",
       "text": [
        " [-4.499453073691768, 0.1017143951710932]\n",
        "1 [4.7342756092123475, -0.035081051175915486]\n",
        "2 [0.10883719601553689, 4.724161916864905]\n",
        "\n",
        "\n",
        "iteration3:\n",
        "0"
       ]
      },
      {
       "output_type": "stream",
       "stream": "stdout",
       "text": [
        " [-4.618233072986696, 0.01209570625589213]\n",
        "1 [4.7342756092123475, -0.035081051175915486]\n",
        "2 [0.05163332299537063, 4.637075828035132]\n",
        "\n",
        "\n",
        "iteration4:\n",
        "0"
       ]
      },
      {
       "output_type": "stream",
       "stream": "stdout",
       "text": [
        " [-4.618233072986696, 0.01209570625589213]\n",
        "1 [4.7342756092123475, -0.035081051175915486]\n",
        "2 [0.05163332299537063, 4.637075828035132]\n",
        "\n",
        "\n",
        "iteration5:\n",
        "0"
       ]
      },
      {
       "output_type": "stream",
       "stream": "stdout",
       "text": [
        " [-4.618233072986696, 0.01209570625589213]\n",
        "1 [4.7342756092123475, -0.035081051175915486]\n",
        "2 [0.05163332299537063, 4.637075828035132]\n",
        "\n",
        "\n",
        "iteration6:\n",
        "0"
       ]
      },
      {
       "output_type": "stream",
       "stream": "stdout",
       "text": [
        " [-4.618233072986696, 0.01209570625589213]\n",
        "1 [4.7342756092123475, -0.035081051175915486]\n",
        "2 [0.05163332299537063, 4.637075828035132]\n",
        "\n",
        "\n",
        "iteration7:\n",
        "0"
       ]
      },
      {
       "output_type": "stream",
       "stream": "stdout",
       "text": [
        " [-4.618233072986696, 0.01209570625589213]\n",
        "1 [4.7342756092123475, -0.035081051175915486]\n",
        "2 [0.05163332299537063, 4.637075828035132]\n",
        "\n",
        "\n",
        "iteration8:\n",
        "0"
       ]
      },
      {
       "output_type": "stream",
       "stream": "stdout",
       "text": [
        " [-4.618233072986696, 0.01209570625589213]\n",
        "1 [4.7342756092123475, -0.035081051175915486]\n",
        "2 [0.05163332299537063, 4.637075828035132]\n",
        "\n",
        "\n",
        "iteration9:\n",
        "0"
       ]
      },
      {
       "output_type": "stream",
       "stream": "stdout",
       "text": [
        " [-4.618233072986696, 0.01209570625589213]\n",
        "1 [4.7342756092123475, -0.035081051175915486]\n",
        "2 [0.05163332299537063, 4.637075828035132]\n",
        "\n",
        "\n",
        "iteration10:\n",
        "0"
       ]
      },
      {
       "output_type": "stream",
       "stream": "stdout",
       "text": [
        " [-4.618233072986696, 0.01209570625589213]\n",
        "1 [4.7342756092123475, -0.035081051175915486]\n",
        "2 [0.05163332299537063, 4.637075828035132]\n",
        "\n",
        "\n",
        "Centroids\n",
        "\n",
        "[[-4.618233072986696, 0.01209570625589213], [4.7342756092123475, -0.035081051175915486], [0.05163332299537063, 4.637075828035132]]\n"
       ]
      }
     ],
     "prompt_number": 29
    },
    {
     "cell_type": "markdown",
     "metadata": {},
     "source": [
      "### MT11. Which result below is the closest to the centroids you got after running your weighted K-means code for 10 iterations?\n",
      "\n",
      "* (a) (-4.0,0.0), (4.0,0.0), (6.0,6.0)\n",
      "* (b) (-4.5,0.0), (4.5,0.0), (0.0,4.5)\n",
      "* (c) (-5.5,0.0), (0.0,0.0), (3.0,3.0)\n",
      "* (d) (-4.5,0.0), (-4.0,0.0), (0.0,4.5)\n",
      "\n",
      "MT11 = B"
     ]
    },
    {
     "cell_type": "markdown",
     "metadata": {},
     "source": [
      "### MT12. Using the result of the previous question, which number below is the closest to the average weighted distance between each example and its assigned (closest) centroid?\n",
      "\n",
      "The average weighted distance is defined as \n",
      "sum over i  (weighted_distance_i)/sum over i (weight_i)\n",
      "\n",
      "* (a) 2.5\n",
      "* (b) 1.5\n",
      "* (c) 0.5\n",
      "* (d) 4.0\n",
      "\n",
      "We need to calculate the averaged distance to answer this question\n",
      "\n",
      "ANSWER = B"
     ]
    },
    {
     "cell_type": "code",
     "collapsed": false,
     "input": [
      "import numpy as np\n",
      "\n",
      "def distance(X,Y):\n",
      "    # calculate the distance between points\n",
      "    return np.sqrt(np.linalg.norm(X-Y))\n",
      "\n",
      "def weight(X):\n",
      "    return 1.0/np.sqrt(np.linalg.norm(X))\n",
      "\n",
      "#\n",
      "centroids = np.array(centroid_points)\n",
      "\n",
      "def calculate(X):\n",
      "    return np.argmin(np.array([dist(X, centroid) for centroid in centroids[:,:]]))\n",
      "\n",
      "# pull in the kmeans data points\n",
      "with open('kmeans.csv') as f:\n",
      "    num=0.0\n",
      "    den=0.0\n",
      "    for line in f:\n",
      "        X=np.array(line.strip().split(','), dtype=float)\n",
      "        centroid=centroids[calculate(X),:]\n",
      "        w=weight(X)\n",
      "        num += w*dist(X, centroid)\n",
      "        den += w\n",
      "    print num/den\n"
     ],
     "language": "python",
     "metadata": {},
     "outputs": [
      {
       "output_type": "stream",
       "stream": "stdout",
       "text": [
        "1.59489656984\n"
       ]
      }
     ],
     "prompt_number": 6
    },
    {
     "cell_type": "markdown",
     "metadata": {},
     "source": [
      "### MT13. Which of the following statements are true? Select all that apply. \n",
      "\n",
      "* a)\t  Since K-Means is an unsupervised learning algorithm, it cannot overfit the data, and thus it is always better to have as large a number of clusters as is computationally feasible. \n",
      "* b)\t  The standard way of initializing K-means is setting \u03bc1=\u22ef=\u03bck to be equal to a vector of zeros. \n",
      "* c)\t  For some datasets, the \"right\" or \"correct\" value of K (the number of clusters) can be ambiguous, and hard even for a human expert looking carefully at the data to decide. \n",
      "* d)\t  A good way to initialize K-means is to select uniformly at random K (distinct) examples from the training set and set the cluster centroids equal to these selected examples. \n",
      "\n",
      "\n",
      "MT13 = C,D"
     ]
    },
    {
     "cell_type": "markdown",
     "metadata": {},
     "source": [
      "### MT14. Is there a map input format (for Hadoop or MRJob)?\n",
      "\n",
      "* A.  Yes, but only in Hadoop 0.22+.\n",
      "* B.  Yes, in Hadoop there is a default expectation that each record is delimited by an end of line charcacter and that key is the first token delimited by a tab character and that the value-part  is everything after the tab character.\n",
      "* C.  No,  when  MRJob INPUT_PROTOCOL = RawValueProtocol. In this case input is processed in format agnostic way thereby avoiding any type of parsing errors. The value is treated as a str, the key is read in as None.\n",
      "* D.  Both 2 and 3 are correct answers.\n",
      "\n",
      "\n",
      "MT14 = B"
     ]
    },
    {
     "cell_type": "markdown",
     "metadata": {},
     "source": [
      "### MT15. What happens if mapper output does not match reducer input?  ###\n",
      " \n",
      "* A.  Hadoop API will convert the data to the type that is needed by the reducer. \n",
      "* B.  Data input/output inconsistency cannot occur. A preliminary validation check is executed prior to the full execution of the job to ensure there is consistency. \n",
      "* C.  The java compiler will report an error during compilation but the job will complete with exceptions. \n",
      "* D.  A real-time exception will be thrown and map-reduce job will fail.\n",
      "\n",
      "\n",
      "MT15 = D"
     ]
    },
    {
     "cell_type": "markdown",
     "metadata": {},
     "source": [
      "### MT16. Why would a developer create a map-reduce without the reduce step?\n",
      " \n",
      "* A.  Developers should design Map-Reduce jobs without reducers only if no reduce slots are available on the cluster. \n",
      "* B.  Developers should never design Map-Reduce jobs without reducers. An error will occur upon compile. \n",
      "* C.  There is a CPU intensive step that occurs between the map and reduce steps. Disabling the reduce step speeds up data processing. \n",
      "* D.  It is not possible to create a map-reduce job without at least one reduce step. A developer may decide to limit to one reducer for debugging purposes.\n",
      "\n",
      "MT16 = C"
     ]
    },
    {
     "cell_type": "code",
     "collapsed": true,
     "input": [],
     "language": "python",
     "metadata": {},
     "outputs": [],
     "prompt_number": null
    }
   ],
   "metadata": {}
  }
 ]
}